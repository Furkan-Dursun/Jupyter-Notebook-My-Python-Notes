{
 "cells": [
  {
   "cell_type": "code",
   "execution_count": 2,
   "metadata": {},
   "outputs": [],
   "source": [
    "# Dosya acmak ve okumak icin open() fonksiyonu kullanilir\n",
    "# Kullanimi: open(dosya_adi, dosya_erisme_modu)\n",
    "# dosya erisme modu => dosyayi hangi amacla actigimizi belirtir"
   ]
  },
  {
   "cell_type": "code",
   "execution_count": 72,
   "metadata": {},
   "outputs": [],
   "source": [
    "# 'w': Write, yazma modu. Dosyayi konumda olusturur, varolan bilgileri siler yeniden ekleme yapar\n",
    "# 'a': Append, ekleme modu. Dosya konumda yoksa olusturur\n",
    "# 'x': Create, olusturma modu. Dosya zaten varsa hata verir\n",
    "# 'r': Read, okuma. Dosya konumda yoksa hata verir \n",
    "# 'r+': hemm okuma hemde yazma, dosyada guncelleme yapmamizi saglar"
   ]
  },
  {
   "cell_type": "code",
   "execution_count": 53,
   "metadata": {},
   "outputs": [],
   "source": [
    "file = open(\"newfile.txt\",\"w\",encoding=\"utf-8\") # turkce karakter tanisin diye utf8 formatinda"
   ]
  },
  {
   "cell_type": "code",
   "execution_count": 54,
   "metadata": {},
   "outputs": [],
   "source": [
    "# file.close()  ile dosyayi kapatabiliriz"
   ]
  },
  {
   "cell_type": "code",
   "execution_count": 55,
   "metadata": {},
   "outputs": [
    {
     "data": {
      "text/plain": [
       "13"
      ]
     },
     "execution_count": 55,
     "metadata": {},
     "output_type": "execute_result"
    }
   ],
   "source": [
    "file.write(\"furkan dursun\") # write ile icine biseyler yazabiliriz\n",
    "#file.close()"
   ]
  },
  {
   "cell_type": "code",
   "execution_count": 56,
   "metadata": {},
   "outputs": [],
   "source": [
    "file = open(\"newfile.txt\",\"r\",encoding=\"utf-8\") #dosyayi okuma\n",
    "content = file.read()"
   ]
  },
  {
   "cell_type": "code",
   "execution_count": 57,
   "metadata": {},
   "outputs": [
    {
     "data": {
      "text/plain": [
       "'furkan dursun'"
      ]
     },
     "execution_count": 57,
     "metadata": {},
     "output_type": "execute_result"
    }
   ],
   "source": [
    "content"
   ]
  },
  {
   "cell_type": "code",
   "execution_count": null,
   "metadata": {},
   "outputs": [],
   "source": []
  },
  {
   "cell_type": "code",
   "execution_count": 67,
   "metadata": {},
   "outputs": [],
   "source": [
    "file = open(\"newfile.txt\",\"r\",encoding=\"utf-8\") #dosyayi okuma\n",
    "content = file.read()\n",
    "content2 = file.readline() #ilk satiri okur,sonraki cagirmada diger satiri okur"
   ]
  },
  {
   "cell_type": "code",
   "execution_count": 68,
   "metadata": {},
   "outputs": [
    {
     "data": {
      "text/plain": [
       "'furkan dursun'"
      ]
     },
     "execution_count": 68,
     "metadata": {},
     "output_type": "execute_result"
    }
   ],
   "source": [
    "content"
   ]
  },
  {
   "cell_type": "code",
   "execution_count": null,
   "metadata": {},
   "outputs": [],
   "source": []
  },
  {
   "cell_type": "code",
   "execution_count": 71,
   "metadata": {},
   "outputs": [
    {
     "name": "stdout",
     "output_type": "stream",
     "text": [
      "furkan dursun\n"
     ]
    }
   ],
   "source": [
    "with open(\"newfile.txt\",\"r\",encoding=\"utf-8\") as dosyam: # bu sekilde file.close dememize gerek kalmiyor\n",
    "    print(dosyam.read())\n",
    "    "
   ]
  },
  {
   "cell_type": "code",
   "execution_count": 85,
   "metadata": {},
   "outputs": [
    {
     "name": "stdout",
     "output_type": "stream",
     "text": [
      "\n"
     ]
    }
   ],
   "source": [
    "with open(\"newfile2.txt\",\"r+\",encoding=\"utf-8\") as dosyam2: # r+ ile dosyamizda guncelleme yapabiliriz\n",
    "    dosyam2.write(\"merhaba\")\n",
    "    dosyam2.write(\"furkan\")\n",
    "    print(dosyam2.read())"
   ]
  },
  {
   "cell_type": "code",
   "execution_count": 92,
   "metadata": {},
   "outputs": [],
   "source": [
    "with open(\"newfile2.txt\",\"a\",encoding=\"utf-8\") as dosyam3: # a ile en sondan itibaren bilgi eklemye baslar\n",
    "    dosyam3.write(\"\\n dursun\")"
   ]
  },
  {
   "cell_type": "code",
   "execution_count": null,
   "metadata": {},
   "outputs": [],
   "source": []
  },
  {
   "cell_type": "code",
   "execution_count": null,
   "metadata": {},
   "outputs": [],
   "source": []
  }
 ],
 "metadata": {
  "kernelspec": {
   "display_name": "Python 3",
   "language": "python",
   "name": "python3"
  },
  "language_info": {
   "codemirror_mode": {
    "name": "ipython",
    "version": 3
   },
   "file_extension": ".py",
   "mimetype": "text/x-python",
   "name": "python",
   "nbconvert_exporter": "python",
   "pygments_lexer": "ipython3",
   "version": "3.6.9"
  }
 },
 "nbformat": 4,
 "nbformat_minor": 2
}

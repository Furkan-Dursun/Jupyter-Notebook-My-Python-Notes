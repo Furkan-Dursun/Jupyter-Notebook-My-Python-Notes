{
 "cells": [
  {
   "cell_type": "code",
   "execution_count": 6,
   "metadata": {},
   "outputs": [],
   "source": [
    "def my_decorator(function):\n",
    "    def wrapper(name):\n",
    "        print(\"fonksiyondan once\")\n",
    "        function(name)\n",
    "        print(\"fonksiyondan sonra\")\n",
    "    return wrapper"
   ]
  },
  {
   "cell_type": "code",
   "execution_count": 7,
   "metadata": {},
   "outputs": [],
   "source": [
    "@my_decorator # bu sekilde fonksiyonumuzu my decaoratora atamis olduk\n",
    "def say_hello(name):\n",
    "    print(\"hello \"+name)"
   ]
  },
  {
   "cell_type": "code",
   "execution_count": 8,
   "metadata": {},
   "outputs": [
    {
     "name": "stdout",
     "output_type": "stream",
     "text": [
      "fonksiyondan once\n",
      "hello ali\n",
      "fonksiyondan sonra\n"
     ]
    }
   ],
   "source": [
    "say_hello(\"ali\")"
   ]
  },
  {
   "cell_type": "code",
   "execution_count": null,
   "metadata": {},
   "outputs": [],
   "source": [
    "# ornegin 3 farklı fonksiyonda ortak yaptigimiz 1 islem olsun bu islemi 3 kez yazacagimiza bunu bir fonksiyona atariz,\n",
    "# ve bir fonksiyonu kullandigimiz zaman o fonksiyonu da cagiririz @func ile boylece fazladan kod yazmamis oluruz"
   ]
  },
  {
   "cell_type": "code",
   "execution_count": null,
   "metadata": {},
   "outputs": [],
   "source": []
  }
 ],
 "metadata": {
  "kernelspec": {
   "display_name": "Python 3",
   "language": "python",
   "name": "python3"
  },
  "language_info": {
   "codemirror_mode": {
    "name": "ipython",
    "version": 3
   },
   "file_extension": ".py",
   "mimetype": "text/x-python",
   "name": "python",
   "nbconvert_exporter": "python",
   "pygments_lexer": "ipython3",
   "version": "3.6.9"
  }
 },
 "nbformat": 4,
 "nbformat_minor": 2
}

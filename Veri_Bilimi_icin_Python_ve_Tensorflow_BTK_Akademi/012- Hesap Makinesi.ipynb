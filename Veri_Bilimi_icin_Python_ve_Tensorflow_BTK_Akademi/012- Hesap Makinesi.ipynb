{
 "cells": [
  {
   "cell_type": "code",
   "execution_count": null,
   "metadata": {},
   "outputs": [],
   "source": [
    "def hesapla(num1,num2,islem):\n",
    "    if islem not in \"+-/*\":\n",
    "        print(\"yanlis islem girdiniz\")\n",
    "    if islem==\"+\":\n",
    "        return num1+num2\n",
    "    if islem==\"-\":\n",
    "        return num1-num2\n",
    "    if islem==\"*\":\n",
    "        return num1*num2\n",
    "    if islem==\"/\":\n",
    "        return num1/num2\n",
    "while True:\n",
    "    try:\n",
    "        num1=int(input(\"1. sayiyi girin: \"))\n",
    "        num2=int(input(\"2. sayiyi girin: \"))\n",
    "        islem=input(\"islemi seciniz +-*/: \")\n",
    "        print(hesapla(num1,num2,islem))\n",
    "    except:\n",
    "        print(\"hatali birsey girdiniz\")"
   ]
  },
  {
   "cell_type": "code",
   "execution_count": null,
   "metadata": {},
   "outputs": [],
   "source": []
  },
  {
   "cell_type": "code",
   "execution_count": null,
   "metadata": {},
   "outputs": [],
   "source": []
  }
 ],
 "metadata": {
  "kernelspec": {
   "display_name": "Python 3",
   "language": "python",
   "name": "python3"
  },
  "language_info": {
   "codemirror_mode": {
    "name": "ipython",
    "version": 3
   },
   "file_extension": ".py",
   "mimetype": "text/x-python",
   "name": "python",
   "nbconvert_exporter": "python",
   "pygments_lexer": "ipython3",
   "version": "3.6.9"
  }
 },
 "nbformat": 4,
 "nbformat_minor": 2
}

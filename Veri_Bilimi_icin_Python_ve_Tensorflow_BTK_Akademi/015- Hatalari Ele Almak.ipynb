{
 "cells": [
  {
   "cell_type": "markdown",
   "metadata": {},
   "source": [
    "## try, except, else, finally"
   ]
  },
  {
   "cell_type": "code",
   "execution_count": 3,
   "metadata": {},
   "outputs": [
    {
     "name": "stdout",
     "output_type": "stream",
     "text": [
      "bir sayi girin: furkan\n",
      "lutfen bir sayi girin\n",
      "finally cagirildi\n",
      "bir sayi girin: 10\n",
      "tesekkurler\n",
      "finally cagirildi\n"
     ]
    }
   ],
   "source": [
    "while True:\n",
    "    try:\n",
    "        benimInt = int(input(\"bir sayi girin: \"))\n",
    "    except:\n",
    "        print(\"lutfen bir sayi girin\")\n",
    "    else:\n",
    "        print(\"tesekkurler\") # eger dogru girilirse buraya girer\n",
    "        break\n",
    "    finally:\n",
    "        print(\"finally cagirildi\") # finally her halukarda cagrilir"
   ]
  },
  {
   "cell_type": "code",
   "execution_count": null,
   "metadata": {},
   "outputs": [],
   "source": []
  }
 ],
 "metadata": {
  "kernelspec": {
   "display_name": "Python 3",
   "language": "python",
   "name": "python3"
  },
  "language_info": {
   "codemirror_mode": {
    "name": "ipython",
    "version": 3
   },
   "file_extension": ".py",
   "mimetype": "text/x-python",
   "name": "python",
   "nbconvert_exporter": "python",
   "pygments_lexer": "ipython3",
   "version": "3.6.9"
  }
 },
 "nbformat": 4,
 "nbformat_minor": 2
}

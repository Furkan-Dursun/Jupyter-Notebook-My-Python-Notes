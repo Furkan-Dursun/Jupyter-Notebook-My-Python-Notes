{
 "cells": [
  {
   "cell_type": "code",
   "execution_count": 1,
   "metadata": {},
   "outputs": [],
   "source": [
    "koordinatListem = [(10,20),(30,40),(20,90)]"
   ]
  },
  {
   "cell_type": "code",
   "execution_count": 2,
   "metadata": {},
   "outputs": [
    {
     "name": "stdout",
     "output_type": "stream",
     "text": [
      "10\n",
      "30\n",
      "20\n"
     ]
    }
   ],
   "source": [
    "for (x,y) in koordinatListem:\n",
    "    print(x)"
   ]
  },
  {
   "cell_type": "code",
   "execution_count": 3,
   "metadata": {},
   "outputs": [],
   "source": [
    "benimSozluk = {\"elma\":100,\"armut\":30,\"kiraz\":50}"
   ]
  },
  {
   "cell_type": "code",
   "execution_count": 5,
   "metadata": {},
   "outputs": [
    {
     "name": "stdout",
     "output_type": "stream",
     "text": [
      "elma\n",
      "armut\n",
      "kiraz\n"
     ]
    }
   ],
   "source": [
    "for (anahtar,deger) in benimSozluk.items():\n",
    "    print(anahtar)"
   ]
  },
  {
   "cell_type": "code",
   "execution_count": 6,
   "metadata": {},
   "outputs": [],
   "source": [
    "benimListem = [5,10,15,20,25,30]"
   ]
  },
  {
   "cell_type": "code",
   "execution_count": 7,
   "metadata": {},
   "outputs": [
    {
     "name": "stdout",
     "output_type": "stream",
     "text": [
      "5\n",
      "10\n",
      "15\n",
      "20\n",
      "30\n"
     ]
    }
   ],
   "source": [
    "for i in benimListem:\n",
    "    if i==25:\n",
    "        continue\n",
    "    print(i)"
   ]
  },
  {
   "cell_type": "code",
   "execution_count": 10,
   "metadata": {},
   "outputs": [],
   "source": [
    "# simdilik donguyu kullanmayacagiz ama sonra kodlayacaksak 'pass' ile gecebiliriz\n",
    "for i in benimListem:\n",
    "    pass"
   ]
  },
  {
   "cell_type": "code",
   "execution_count": 16,
   "metadata": {},
   "outputs": [
    {
     "name": "stdout",
     "output_type": "stream",
     "text": [
      "yeni numaram: 0\n",
      "yeni numaram: 1\n",
      "yeni numaram: 2\n",
      "yeni numaram: 3\n",
      "yeni numaram: 4\n",
      "yeni numaram: 5\n",
      "yeni numaram: 6\n",
      "yeni numaram: 7\n",
      "yeni numaram: 8\n",
      "yeni numaram: 9\n",
      "yeni numaram: 10\n",
      "yeni numaram: 11\n",
      "yeni numaram: 12\n",
      "yeni numaram: 13\n",
      "yeni numaram: 14\n"
     ]
    }
   ],
   "source": [
    "numaram = 0\n",
    "while numaram < 15:\n",
    "    #print(\"yeni numaram: \" +str(numaram))\n",
    "    print(f\"yeni numaram: {numaram}\") # usttekinin yerine bu sekildede yazabiliriz\n",
    "    numaram+=1"
   ]
  },
  {
   "cell_type": "code",
   "execution_count": null,
   "metadata": {},
   "outputs": [],
   "source": []
  }
 ],
 "metadata": {
  "kernelspec": {
   "display_name": "Python 3",
   "language": "python",
   "name": "python3"
  },
  "language_info": {
   "codemirror_mode": {
    "name": "ipython",
    "version": 3
   },
   "file_extension": ".py",
   "mimetype": "text/x-python",
   "name": "python",
   "nbconvert_exporter": "python",
   "pygments_lexer": "ipython3",
   "version": "3.6.9"
  }
 },
 "nbformat": 4,
 "nbformat_minor": 2
}
